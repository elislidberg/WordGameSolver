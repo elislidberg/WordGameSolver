{
    "cells": [
        {
            "cell_type": "code",
            "execution_count": 173,
            "source": [
                "def input_year():\r\n",
                "    year = 0\r\n",
                "    while True:\r\n",
                "        try:\r\n",
                "            year = int(input('Year: '))\r\n",
                "        except ValueError:\r\n",
                "            print('Out of allowed range 1583 to 9999')\r\n",
                "        else:\r\n",
                "            break\r\n",
                "    \r\n",
                "    if 1583 <= year <= 9999:\r\n",
                "        return year\r\n",
                "    else:\r\n",
                "        print('Out of allowed range 1583 to 9999')\r\n",
                "        return input_year()\r\n",
                "\r\n",
                "#year = (input_year())\r\n",
                "#print(year)\r\n",
                "\r\n",
                "\r\n",
                "    \r\n",
                "\r\n"
            ],
            "outputs": [
                {
                    "output_type": "stream",
                    "name": "stdout",
                    "text": [
                        "1999\n"
                    ]
                }
            ],
            "metadata": {}
        },
        {
            "cell_type": "code",
            "execution_count": 171,
            "source": [
                "def leap_year(year):\r\n",
                "    if year % 400 == 0:\r\n",
                "        return True\r\n",
                "    elif year % 4 == 0 and year % 100 != 0:\r\n",
                "        return True\r\n",
                "    else:\r\n",
                "        return False\r\n",
                "\r\n"
            ],
            "outputs": [],
            "metadata": {}
        },
        {
            "cell_type": "code",
            "execution_count": 174,
            "source": [
                "def input_month():\r\n",
                "    month = 0\r\n",
                "    while True:\r\n",
                "        try:\r\n",
                "            month = int(input('Month: '))\r\n",
                "        except ValueError:\r\n",
                "            print('Out of allowed range 1 to 12')\r\n",
                "        else:\r\n",
                "            break\r\n",
                "    \r\n",
                "    if 1 <= month <= 12:\r\n",
                "        return month\r\n",
                "    else:\r\n",
                "        print('Out of allowed range 1 to 12')\r\n",
                "        return input_month()\r\n",
                "\r\n",
                "#month = (input_month())\r\n",
                "#print(month)\r\n",
                "\r\n"
            ],
            "outputs": [
                {
                    "output_type": "stream",
                    "name": "stdout",
                    "text": [
                        "8\n"
                    ]
                }
            ],
            "metadata": {}
        },
        {
            "cell_type": "code",
            "execution_count": 176,
            "source": [
                "def input_day(year, month):\r\n",
                "    day = 0\r\n",
                "    set_of_2 = {2}\r\n",
                "    set_of_30 = {4,6,9,11} \r\n",
                "    set_of_31 = {1,3,5,7,8,10,12}\r\n",
                "\r\n",
                "    if month in set_of_31:\r\n",
                "        while True:\r\n",
                "            try:\r\n",
                "                day = int(input('Day: '))\r\n",
                "            except ValueError:\r\n",
                "                print('Out of allowed range 1 to 31')\r\n",
                "            else:\r\n",
                "                break\r\n",
                "    \r\n",
                "        if 1 <= day <= 31:\r\n",
                "            return day\r\n",
                "        else:\r\n",
                "            print('Out of allowed range 1 to 31')\r\n",
                "            return input_day(year, month)\r\n",
                "    \r\n",
                "    elif month in set_of_30:\r\n",
                "        while True:\r\n",
                "            try:\r\n",
                "                day = int(input('Day: '))\r\n",
                "            except ValueError:\r\n",
                "                print('Out of allowed range 1 to 30')\r\n",
                "            else:\r\n",
                "                break\r\n",
                "    \r\n",
                "        if 1 <= day <= 30:\r\n",
                "            return day\r\n",
                "        else:\r\n",
                "            print('Out of allowed range 1 to 30')\r\n",
                "            return input_day(year, month)\r\n",
                "\r\n",
                "    elif month in set_of_2:\r\n",
                "        if leap_year(year) == True:\r\n",
                "            while True:\r\n",
                "                try:\r\n",
                "                    day = int(input('Day: '))\r\n",
                "                except ValueError:\r\n",
                "                    print('Out of allowed range 1 to 29')\r\n",
                "                else:\r\n",
                "                    break\r\n",
                "            if 1 <= day <= 29:\r\n",
                "                return day\r\n",
                "            else:\r\n",
                "                print('Out of allowed range 1 to 29')\r\n",
                "                return input_day(year, month)\r\n",
                "\r\n",
                "        else:\r\n",
                "            while True:\r\n",
                "                try:\r\n",
                "                    day = int(input('Day: '))\r\n",
                "                except ValueError:\r\n",
                "                    print('Out of allowed range 1 to 28')\r\n",
                "                else:\r\n",
                "                    break\r\n",
                "            if 1 <= day <= 28:\r\n",
                "                return day\r\n",
                "            else:\r\n",
                "                print('Out of allowed range 1 to 28')\r\n",
                "                return input_day(year, month)\r\n",
                "\r\n",
                "#day = (input_day(year, month))\r\n",
                "#print(day)"
            ],
            "outputs": [
                {
                    "output_type": "stream",
                    "name": "stdout",
                    "text": [
                        "30\n"
                    ]
                }
            ],
            "metadata": {}
        },
        {
            "cell_type": "code",
            "execution_count": 191,
            "source": [
                "def calculations(year, month, day):\r\n",
                "    if month == 1 or month == 2:\r\n",
                "        month += 12\r\n",
                "        year -= 1\r\n",
                "    \r\n",
                "    weekday = ( day + 13*(month+1)//5 + year + year//4 - year//100 + year//400 ) % 7\r\n",
                "\r\n",
                "    #list_of_weekdays = {2: 'Monday', 3: 'Tuesday', 4: 'Wednesday', 5: 'Thursday', 6: 'Friday', 0: 'Saturday', 1: 'Sunday'}\r\n",
                "\r\n",
                "    #a = list_of_weekdays[weekday]\r\n",
                "\r\n",
                "    return weekday\r\n",
                "calculations(1999, 12, 10)"
            ],
            "outputs": [
                {
                    "output_type": "execute_result",
                    "data": {
                        "text/plain": [
                            "6"
                        ]
                    },
                    "metadata": {},
                    "execution_count": 191
                }
            ],
            "metadata": {}
        },
        {
            "cell_type": "code",
            "execution_count": 194,
            "source": [
                "def main():\r\n",
                "    year = input_year()\r\n",
                "    month = input_month()\r\n",
                "    day = input_day(year, month)\r\n",
                "\r\n",
                "    list_of_weekdays = {2: 'Monday', 3: 'Tuesday', 4: 'Wednesday', 5: 'Thursday', 6: 'Friday', 0: 'Saturday', 1: 'Sunday'}\r\n",
                "\r\n",
                "    weekday = calculations(year, month, day)\r\n",
                "\r\n",
                "    print('\\n It is a ' + list_of_weekdays[weekday])\r\n",
                "#main()"
            ],
            "outputs": [],
            "metadata": {}
        },
        {
            "cell_type": "code",
            "execution_count": 195,
            "source": [
                "if __name__ == \"__main__\":\r\n",
                "    main()"
            ],
            "outputs": [
                {
                    "output_type": "stream",
                    "name": "stdout",
                    "text": [
                        "\n",
                        " It is a Friday\n"
                    ]
                }
            ],
            "metadata": {}
        }
    ],
    "metadata": {
        "orig_nbformat": 4,
        "language_info": {
            "name": "python",
            "version": "3.9.6",
            "mimetype": "text/x-python",
            "codemirror_mode": {
                "name": "ipython",
                "version": 3
            },
            "pygments_lexer": "ipython3",
            "nbconvert_exporter": "python",
            "file_extension": ".py"
        },
        "kernelspec": {
            "name": "python3",
            "display_name": "Python 3.9.6 64-bit ('work_env': venv)"
        },
        "interpreter": {
            "hash": "e823f92dfa775e49852720005757bb5e58fe9062fa53b01e873de682c4630ee7"
        }
    },
    "nbformat": 4,
    "nbformat_minor": 2
}