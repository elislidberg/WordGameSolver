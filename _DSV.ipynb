{
    "cells": [
        {
            "cell_type": "code",
            "execution_count": 4,
            "source": [
                "# Elis Lidberg\r\n",
                "#199703255951\r\n",
                "\r\n",
                "\r\n",
                "word_file = open(\"svenskaOrd.txt\", \"r\")\r\n",
                "words = word_file.read().split('\\n') # öppnar fil och skapar lista av orden\r\n",
                "alph =['a', 'b', 'c', 'd', 'e', 'f', 'g', 'h', 'i', 'j', 'k', 'l', 'm', 'n', 'o', 'p', \r\n",
                "'q', 'r', 's', 't', 'u', 'v', 'w', 'x', 'y', 'z', 'å', 'ä', 'ö']\r\n",
                "\r\n",
                "inp = \"anitsksem\"\r\n",
                "counter = 0\r\n",
                "lst = []\r\n",
                "\r\n",
                "# går igenom ordlisa och alph, om bokstav i alph finns i ordet ökar counter med \r\n",
                "# antalet sådana bokstäver i ordet. Om längd av ord i ordlistan == counter \r\n",
                "# läggs det ordet till i separat lista, lst\r\n",
                "\r\n",
                "for word in words:\r\n",
                "    for i in alph:\r\n",
                "        if inp.count(i) == word.count(i) and inp.count(i) != 0:\r\n",
                "            counter += word.count(i)\r\n",
                "        elif inp.count(i) > word.count(i):\r\n",
                "            counter += word.count(i)\r\n",
                "    if len(word) == counter:\r\n",
                "        lst.append(word)\r\n",
                "    counter = 0\r\n",
                "# tar bort ord som inte innehåller 5e bokstaven\r\n",
                "for x in lst[:]:\r\n",
                "    if inp[4] not in x:\r\n",
                "        lst.remove(x)\r\n",
                "# tar bort ord där len(ord) < 4\r\n",
                "for x in lst[:]:\r\n",
                "    if len(x) < 4:\r\n",
                "        lst.remove(x)\r\n",
                "# printar ord som finns kvar\r\n",
                "full_counter = 0\r\n",
                "for i in lst:\r\n",
                "    print(i)\r\n",
                "    if len(i) == 9:\r\n",
                "        full_counter += 1\r\n",
                "# printar ord som innehåller 9 bokstäver\r\n",
                "print(str(full_counter) + \" ord använder alla bokstäver:\" )\r\n",
                "for i in lst:\r\n",
                "    if len(i) == 9:\r\n",
                "        print(i)\r\n",
                "        "
            ],
            "outputs": [
                {
                    "output_type": "stream",
                    "name": "stdout",
                    "text": [
                        "['abbedissa', 'abborre', 'abbot', 'abbé', 'abderit', 'abdikation', 'abnorm', 'abonnemang', 'abonnent', 'abonnera', 'abort', 'abrupt', 'abscissa', 'absid', 'absint', 'absolut', 'absolutist', 'absorbera', 'absorption', 'abstinens', 'abstinensbesvär', 'abstrahera', 'abstrakt', 'abstraktion', 'abstrus', 'absurd', 'absurditet', 'absurdum', 'acceleration', 'accelerator', 'accelerera', 'accent', 'accentuera', 'accentuering', 'acceptabel', 'acceptans', 'acceptera', 'access', 'ack', 'acklamation', 'ackompanjemang', 'ackompanjera', 'ackord', 'ackumulativ', 'ackumulator', 'ackumulera', 'action', 'adagio', 'adapter', 'adaptera', 'adaption', 'adaptiv', 'addera', 'adderare', 'addition', 'additiv', 'adekvat', 'adel', 'adelskalender', 'adelsman', 'adelsmän', 'adept', 'adjektiv', 'adjungera', 'adjunkt', 'adjutant', 'adjö', 'adla', 'adlig', 'administration', 'administrativ', 'administratör', 'administrera', 'adoptera', 'adoption', 'adoptivbarn', 'adoptivson', 'adrenalin', 'adress', 'adressat', 'adressbuss', 'adressera', 'adressering', 'adresslista', 'adressrymd', 'adressändring', 'advent', 'adventsljus', 'adverb', 'advokat', 'advokatyr', 'affekt', 'affekterade', 'affin', 'affisch', 'affischera', 'affix', 'affär', 'affärsbiträde', 'affärscentrum']\n"
                    ]
                },
                {
                    "output_type": "execute_result",
                    "data": {
                        "text/plain": [
                            "'\\nfor word in words:\\n    for i in alph:\\n        if inp.count(i) == word.count(i) and inp.count(i) != 0:\\n            counter += word.count(i)\\n        elif inp.count(i) > word.count(i):\\n            counter += word.count(i)\\n    if len(word) == counter:\\n        lst.append(word)\\n    counter = 0\\n# tar bort ord som inte innehåller 5e bokstaven\\nfor x in lst[:]:\\n    if inp[4] not in x:\\n        lst.remove(x)\\n# tar bort ord där len(ord) < 4\\nfor x in lst[:]:\\n    if len(x) < 4:\\n        lst.remove(x)\\n# printar ord som finns kvar\\nfull_counter = 0\\nfor i in lst:\\n    print(i)\\n    if len(i) == 9:\\n        full_counter += 1\\n# printar ord som innehåller 9 bokstäver\\nprint(str(full_counter) + \" ord använder alla bokstäver:\" )\\nfor i in lst:\\n    if len(i) == 9:\\n        print(i)\\n        '"
                        ]
                    },
                    "metadata": {},
                    "execution_count": 4
                }
            ],
            "metadata": {}
        },
        {
            "cell_type": "code",
            "execution_count": 32,
            "source": [
                "gg = \"gjj\"\r\n",
                "\r\n",
                "print(len(gg))"
            ],
            "outputs": [
                {
                    "output_type": "stream",
                    "name": "stdout",
                    "text": [
                        "3\n"
                    ]
                }
            ],
            "metadata": {}
        },
        {
            "cell_type": "code",
            "execution_count": 31,
            "source": [
                "from itertools import permutations\r\n",
                "\r\n",
                "word_file = open(\"svenskaOrd.txt\", \"r\")\r\n",
                "\r\n",
                "words = word_file.read().split('\\n')\r\n",
                "#print(len(words))\r\n",
                "\r\n",
                "inp = \"grjiadsfb\"\r\n",
                "vip_char = inp[4]\r\n",
                "\r\n",
                "for word in words:\r\n",
                "    if vip_char not in word:\r\n",
                "        words.remove(word)\r\n",
                "\r\n",
                "letters = [lettr for lettr in inp]\r\n",
                "\r\n",
                "lst = []\r\n",
                "new_lst = []\r\n",
                "\r\n",
                "for n in range(4, len(inp) + 1):\r\n",
                "    for y in list(permutations(letters, n)):\r\n",
                "        z = \"\".join(y)\r\n",
                "        for word in words:\r\n",
                "            if z == word:\r\n",
                "                new_lst.append(word)\r\n",
                "\r\n",
                "\r\n",
                "print(new_lst)\r\n",
                "\r\n",
                "\r\n",
                "\r\n",
                "\r\n",
                "\r\n",
                "\r\n",
                "\r\n",
                "\r\n",
                "\r\n",
                "        \r\n",
                "            \r\n",
                "        \r\n",
                "\r\n",
                "    \r\n",
                "\r\n",
                "\r\n"
            ],
            "outputs": [
                {
                    "output_type": "error",
                    "ename": "KeyboardInterrupt",
                    "evalue": "",
                    "traceback": [
                        "\u001b[1;31m---------------------------------------------------------------------------\u001b[0m",
                        "\u001b[1;31mKeyboardInterrupt\u001b[0m                         Traceback (most recent call last)",
                        "\u001b[1;32m~\\AppData\\Local\\Temp/ipykernel_22284/2360875838.py\u001b[0m in \u001b[0;36m<module>\u001b[1;34m\u001b[0m\n\u001b[0;32m     22\u001b[0m         \u001b[0mz\u001b[0m \u001b[1;33m=\u001b[0m \u001b[1;34m\"\"\u001b[0m\u001b[1;33m.\u001b[0m\u001b[0mjoin\u001b[0m\u001b[1;33m(\u001b[0m\u001b[0my\u001b[0m\u001b[1;33m)\u001b[0m\u001b[1;33m\u001b[0m\u001b[1;33m\u001b[0m\u001b[0m\n\u001b[0;32m     23\u001b[0m         \u001b[1;32mfor\u001b[0m \u001b[0mword\u001b[0m \u001b[1;32min\u001b[0m \u001b[0mwords\u001b[0m\u001b[1;33m:\u001b[0m\u001b[1;33m\u001b[0m\u001b[1;33m\u001b[0m\u001b[0m\n\u001b[1;32m---> 24\u001b[1;33m             \u001b[1;32mif\u001b[0m \u001b[0mz\u001b[0m \u001b[1;33m==\u001b[0m \u001b[0mword\u001b[0m\u001b[1;33m:\u001b[0m\u001b[1;33m\u001b[0m\u001b[1;33m\u001b[0m\u001b[0m\n\u001b[0m\u001b[0;32m     25\u001b[0m                 \u001b[0mnew_lst\u001b[0m\u001b[1;33m.\u001b[0m\u001b[0mappend\u001b[0m\u001b[1;33m(\u001b[0m\u001b[0mword\u001b[0m\u001b[1;33m)\u001b[0m\u001b[1;33m\u001b[0m\u001b[1;33m\u001b[0m\u001b[0m\n\u001b[0;32m     26\u001b[0m \u001b[1;33m\u001b[0m\u001b[0m\n",
                        "\u001b[1;31mKeyboardInterrupt\u001b[0m: "
                    ]
                }
            ],
            "metadata": {}
        }
    ],
    "metadata": {
        "orig_nbformat": 4,
        "language_info": {
            "name": "python",
            "version": "3.9.6",
            "mimetype": "text/x-python",
            "codemirror_mode": {
                "name": "ipython",
                "version": 3
            },
            "pygments_lexer": "ipython3",
            "nbconvert_exporter": "python",
            "file_extension": ".py"
        },
        "kernelspec": {
            "name": "python3",
            "display_name": "Python 3.9.6 64-bit ('work_env': venv)"
        },
        "interpreter": {
            "hash": "e823f92dfa775e49852720005757bb5e58fe9062fa53b01e873de682c4630ee7"
        }
    },
    "nbformat": 4,
    "nbformat_minor": 2
}